{
 "cells": [
  {
   "cell_type": "code",
   "execution_count": 1,
   "metadata": {},
   "outputs": [],
   "source": [
    "import numpy as np\n",
    "import pandas as pd\n",
    "import matplotlib.pyplot as plt\n",
    "import seaborn as sns\n",
    "\n",
    "\n",
    "%matplotlib inline"
   ]
  },
  {
   "cell_type": "code",
   "execution_count": 3,
   "metadata": {},
   "outputs": [
    {
     "data": {
      "text/html": [
       "<div>\n",
       "<style scoped>\n",
       "    .dataframe tbody tr th:only-of-type {\n",
       "        vertical-align: middle;\n",
       "    }\n",
       "\n",
       "    .dataframe tbody tr th {\n",
       "        vertical-align: top;\n",
       "    }\n",
       "\n",
       "    .dataframe thead th {\n",
       "        text-align: right;\n",
       "    }\n",
       "</style>\n",
       "<table border=\"1\" class=\"dataframe\">\n",
       "  <thead>\n",
       "    <tr style=\"text-align: right;\">\n",
       "      <th></th>\n",
       "      <th>39,</th>\n",
       "      <th>State-gov, 77516, Bachelors, 13, Never-married, Adm-clerical, Not-in-family, White, Male, 2174, 0, 40, United-States, &lt;=50K</th>\n",
       "    </tr>\n",
       "  </thead>\n",
       "  <tbody>\n",
       "    <tr>\n",
       "      <th>0</th>\n",
       "      <td>50,</td>\n",
       "      <td>Self-emp-not-inc, 83311, Bachelors, 13, Marrie...</td>\n",
       "    </tr>\n",
       "    <tr>\n",
       "      <th>1</th>\n",
       "      <td>38,</td>\n",
       "      <td>Private, 215646, HS-grad, 9, Divorced, Handler...</td>\n",
       "    </tr>\n",
       "    <tr>\n",
       "      <th>2</th>\n",
       "      <td>53,</td>\n",
       "      <td>Private, 234721, 11th, 7, Married-civ-spouse, ...</td>\n",
       "    </tr>\n",
       "    <tr>\n",
       "      <th>3</th>\n",
       "      <td>28,</td>\n",
       "      <td>Private, 338409, Bachelors, 13, Married-civ-sp...</td>\n",
       "    </tr>\n",
       "    <tr>\n",
       "      <th>4</th>\n",
       "      <td>37,</td>\n",
       "      <td>Private, 284582, Masters, 14, Married-civ-spou...</td>\n",
       "    </tr>\n",
       "    <tr>\n",
       "      <th>...</th>\n",
       "      <td>...</td>\n",
       "      <td>...</td>\n",
       "    </tr>\n",
       "    <tr>\n",
       "      <th>32555</th>\n",
       "      <td>27,</td>\n",
       "      <td>Private, 257302, Assoc-acdm, 12, Married-civ-s...</td>\n",
       "    </tr>\n",
       "    <tr>\n",
       "      <th>32556</th>\n",
       "      <td>40,</td>\n",
       "      <td>Private, 154374, HS-grad, 9, Married-civ-spous...</td>\n",
       "    </tr>\n",
       "    <tr>\n",
       "      <th>32557</th>\n",
       "      <td>58,</td>\n",
       "      <td>Private, 151910, HS-grad, 9, Widowed, Adm-cler...</td>\n",
       "    </tr>\n",
       "    <tr>\n",
       "      <th>32558</th>\n",
       "      <td>22,</td>\n",
       "      <td>Private, 201490, HS-grad, 9, Never-married, Ad...</td>\n",
       "    </tr>\n",
       "    <tr>\n",
       "      <th>32559</th>\n",
       "      <td>52,</td>\n",
       "      <td>Self-emp-inc, 287927, HS-grad, 9, Married-civ-...</td>\n",
       "    </tr>\n",
       "  </tbody>\n",
       "</table>\n",
       "<p>32560 rows × 2 columns</p>\n",
       "</div>"
      ],
      "text/plain": [
       "       39,  \\\n",
       "0      50,   \n",
       "1      38,   \n",
       "2      53,   \n",
       "3      28,   \n",
       "4      37,   \n",
       "...    ...   \n",
       "32555  27,   \n",
       "32556  40,   \n",
       "32557  58,   \n",
       "32558  22,   \n",
       "32559  52,   \n",
       "\n",
       "      State-gov, 77516, Bachelors, 13, Never-married, Adm-clerical, Not-in-family, White, Male, 2174, 0, 40, United-States, <=50K  \n",
       "0      Self-emp-not-inc, 83311, Bachelors, 13, Marrie...                                                                           \n",
       "1      Private, 215646, HS-grad, 9, Divorced, Handler...                                                                           \n",
       "2      Private, 234721, 11th, 7, Married-civ-spouse, ...                                                                           \n",
       "3      Private, 338409, Bachelors, 13, Married-civ-sp...                                                                           \n",
       "4      Private, 284582, Masters, 14, Married-civ-spou...                                                                           \n",
       "...                                                  ...                                                                           \n",
       "32555  Private, 257302, Assoc-acdm, 12, Married-civ-s...                                                                           \n",
       "32556  Private, 154374, HS-grad, 9, Married-civ-spous...                                                                           \n",
       "32557  Private, 151910, HS-grad, 9, Widowed, Adm-cler...                                                                           \n",
       "32558  Private, 201490, HS-grad, 9, Never-married, Ad...                                                                           \n",
       "32559  Self-emp-inc, 287927, HS-grad, 9, Married-civ-...                                                                           \n",
       "\n",
       "[32560 rows x 2 columns]"
      ]
     },
     "execution_count": 3,
     "metadata": {},
     "output_type": "execute_result"
    }
   ],
   "source": [
    "data = pd.read_fwf('adult.data')\n",
    "data"
   ]
  },
  {
   "cell_type": "code",
   "execution_count": 5,
   "metadata": {},
   "outputs": [
    {
     "data": {
      "text/plain": [
       "Index(['39,', 'State-gov, 77516, Bachelors, 13, Never-married, Adm-clerical, Not-in-family, White, Male, 2174, 0, 40, United-States, <=50K'], dtype='object')"
      ]
     },
     "execution_count": 5,
     "metadata": {},
     "output_type": "execute_result"
    }
   ],
   "source": [
    "data.head().columns"
   ]
  },
  {
   "cell_type": "code",
   "execution_count": null,
   "metadata": {},
   "outputs": [],
   "source": []
  }
 ],
 "metadata": {
  "kernelspec": {
   "display_name": "Python 3.9.12 ('base')",
   "language": "python",
   "name": "python3"
  },
  "language_info": {
   "codemirror_mode": {
    "name": "ipython",
    "version": 3
   },
   "file_extension": ".py",
   "mimetype": "text/x-python",
   "name": "python",
   "nbconvert_exporter": "python",
   "pygments_lexer": "ipython3",
   "version": "3.9.12"
  },
  "orig_nbformat": 4,
  "vscode": {
   "interpreter": {
    "hash": "701d4f28dcd0866722f5108a3a4cbcd08882d26398b6d44117e791d7b8102912"
   }
  }
 },
 "nbformat": 4,
 "nbformat_minor": 2
}
