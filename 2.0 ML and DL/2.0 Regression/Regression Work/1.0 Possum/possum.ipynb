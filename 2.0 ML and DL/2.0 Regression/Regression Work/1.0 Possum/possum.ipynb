{
 "cells": [
  {
   "cell_type": "code",
   "execution_count": 1,
   "metadata": {},
   "outputs": [],
   "source": [
    "import numpy as np\n",
    "import pandas as pd\n",
    "import matplotlib.pyplot as plt\n",
    "import seaborn as sns\n",
    "\n",
    "\n",
    "%matplotlib inline"
   ]
  },
  {
   "cell_type": "code",
   "execution_count": 3,
   "metadata": {},
   "outputs": [
    {
     "data": {
      "text/html": [
       "<div>\n",
       "<style scoped>\n",
       "    .dataframe tbody tr th:only-of-type {\n",
       "        vertical-align: middle;\n",
       "    }\n",
       "\n",
       "    .dataframe tbody tr th {\n",
       "        vertical-align: top;\n",
       "    }\n",
       "\n",
       "    .dataframe thead th {\n",
       "        text-align: right;\n",
       "    }\n",
       "</style>\n",
       "<table border=\"1\" class=\"dataframe\">\n",
       "  <thead>\n",
       "    <tr style=\"text-align: right;\">\n",
       "      <th></th>\n",
       "      <th>case</th>\n",
       "      <th>site</th>\n",
       "      <th>Pop</th>\n",
       "      <th>sex</th>\n",
       "      <th>age</th>\n",
       "      <th>hdlngth</th>\n",
       "      <th>skullw</th>\n",
       "      <th>totlngth</th>\n",
       "      <th>taill</th>\n",
       "      <th>footlgth</th>\n",
       "      <th>earconch</th>\n",
       "      <th>eye</th>\n",
       "      <th>chest</th>\n",
       "      <th>belly</th>\n",
       "    </tr>\n",
       "  </thead>\n",
       "  <tbody>\n",
       "    <tr>\n",
       "      <th>0</th>\n",
       "      <td>1</td>\n",
       "      <td>1</td>\n",
       "      <td>Vic</td>\n",
       "      <td>m</td>\n",
       "      <td>8.0</td>\n",
       "      <td>94.1</td>\n",
       "      <td>60.4</td>\n",
       "      <td>89.0</td>\n",
       "      <td>36.0</td>\n",
       "      <td>74.5</td>\n",
       "      <td>54.5</td>\n",
       "      <td>15.2</td>\n",
       "      <td>28.0</td>\n",
       "      <td>36.0</td>\n",
       "    </tr>\n",
       "    <tr>\n",
       "      <th>1</th>\n",
       "      <td>2</td>\n",
       "      <td>1</td>\n",
       "      <td>Vic</td>\n",
       "      <td>f</td>\n",
       "      <td>6.0</td>\n",
       "      <td>92.5</td>\n",
       "      <td>57.6</td>\n",
       "      <td>91.5</td>\n",
       "      <td>36.5</td>\n",
       "      <td>72.5</td>\n",
       "      <td>51.2</td>\n",
       "      <td>16.0</td>\n",
       "      <td>28.5</td>\n",
       "      <td>33.0</td>\n",
       "    </tr>\n",
       "    <tr>\n",
       "      <th>2</th>\n",
       "      <td>3</td>\n",
       "      <td>1</td>\n",
       "      <td>Vic</td>\n",
       "      <td>f</td>\n",
       "      <td>6.0</td>\n",
       "      <td>94.0</td>\n",
       "      <td>60.0</td>\n",
       "      <td>95.5</td>\n",
       "      <td>39.0</td>\n",
       "      <td>75.4</td>\n",
       "      <td>51.9</td>\n",
       "      <td>15.5</td>\n",
       "      <td>30.0</td>\n",
       "      <td>34.0</td>\n",
       "    </tr>\n",
       "    <tr>\n",
       "      <th>3</th>\n",
       "      <td>4</td>\n",
       "      <td>1</td>\n",
       "      <td>Vic</td>\n",
       "      <td>f</td>\n",
       "      <td>6.0</td>\n",
       "      <td>93.2</td>\n",
       "      <td>57.1</td>\n",
       "      <td>92.0</td>\n",
       "      <td>38.0</td>\n",
       "      <td>76.1</td>\n",
       "      <td>52.2</td>\n",
       "      <td>15.2</td>\n",
       "      <td>28.0</td>\n",
       "      <td>34.0</td>\n",
       "    </tr>\n",
       "    <tr>\n",
       "      <th>4</th>\n",
       "      <td>5</td>\n",
       "      <td>1</td>\n",
       "      <td>Vic</td>\n",
       "      <td>f</td>\n",
       "      <td>2.0</td>\n",
       "      <td>91.5</td>\n",
       "      <td>56.3</td>\n",
       "      <td>85.5</td>\n",
       "      <td>36.0</td>\n",
       "      <td>71.0</td>\n",
       "      <td>53.2</td>\n",
       "      <td>15.1</td>\n",
       "      <td>28.5</td>\n",
       "      <td>33.0</td>\n",
       "    </tr>\n",
       "    <tr>\n",
       "      <th>...</th>\n",
       "      <td>...</td>\n",
       "      <td>...</td>\n",
       "      <td>...</td>\n",
       "      <td>...</td>\n",
       "      <td>...</td>\n",
       "      <td>...</td>\n",
       "      <td>...</td>\n",
       "      <td>...</td>\n",
       "      <td>...</td>\n",
       "      <td>...</td>\n",
       "      <td>...</td>\n",
       "      <td>...</td>\n",
       "      <td>...</td>\n",
       "      <td>...</td>\n",
       "    </tr>\n",
       "    <tr>\n",
       "      <th>99</th>\n",
       "      <td>100</td>\n",
       "      <td>7</td>\n",
       "      <td>other</td>\n",
       "      <td>m</td>\n",
       "      <td>1.0</td>\n",
       "      <td>89.5</td>\n",
       "      <td>56.0</td>\n",
       "      <td>81.5</td>\n",
       "      <td>36.5</td>\n",
       "      <td>66.0</td>\n",
       "      <td>46.8</td>\n",
       "      <td>14.8</td>\n",
       "      <td>23.0</td>\n",
       "      <td>27.0</td>\n",
       "    </tr>\n",
       "    <tr>\n",
       "      <th>100</th>\n",
       "      <td>101</td>\n",
       "      <td>7</td>\n",
       "      <td>other</td>\n",
       "      <td>m</td>\n",
       "      <td>1.0</td>\n",
       "      <td>88.6</td>\n",
       "      <td>54.7</td>\n",
       "      <td>82.5</td>\n",
       "      <td>39.0</td>\n",
       "      <td>64.4</td>\n",
       "      <td>48.0</td>\n",
       "      <td>14.0</td>\n",
       "      <td>25.0</td>\n",
       "      <td>33.0</td>\n",
       "    </tr>\n",
       "    <tr>\n",
       "      <th>101</th>\n",
       "      <td>102</td>\n",
       "      <td>7</td>\n",
       "      <td>other</td>\n",
       "      <td>f</td>\n",
       "      <td>6.0</td>\n",
       "      <td>92.4</td>\n",
       "      <td>55.0</td>\n",
       "      <td>89.0</td>\n",
       "      <td>38.0</td>\n",
       "      <td>63.5</td>\n",
       "      <td>45.4</td>\n",
       "      <td>13.0</td>\n",
       "      <td>25.0</td>\n",
       "      <td>30.0</td>\n",
       "    </tr>\n",
       "    <tr>\n",
       "      <th>102</th>\n",
       "      <td>103</td>\n",
       "      <td>7</td>\n",
       "      <td>other</td>\n",
       "      <td>m</td>\n",
       "      <td>4.0</td>\n",
       "      <td>91.5</td>\n",
       "      <td>55.2</td>\n",
       "      <td>82.5</td>\n",
       "      <td>36.5</td>\n",
       "      <td>62.9</td>\n",
       "      <td>45.9</td>\n",
       "      <td>15.4</td>\n",
       "      <td>25.0</td>\n",
       "      <td>29.0</td>\n",
       "    </tr>\n",
       "    <tr>\n",
       "      <th>103</th>\n",
       "      <td>104</td>\n",
       "      <td>7</td>\n",
       "      <td>other</td>\n",
       "      <td>f</td>\n",
       "      <td>3.0</td>\n",
       "      <td>93.6</td>\n",
       "      <td>59.9</td>\n",
       "      <td>89.0</td>\n",
       "      <td>40.0</td>\n",
       "      <td>67.6</td>\n",
       "      <td>46.0</td>\n",
       "      <td>14.8</td>\n",
       "      <td>28.5</td>\n",
       "      <td>33.5</td>\n",
       "    </tr>\n",
       "  </tbody>\n",
       "</table>\n",
       "<p>104 rows × 14 columns</p>\n",
       "</div>"
      ],
      "text/plain": [
       "     case  site    Pop sex  age  hdlngth  skullw  totlngth  taill  footlgth  \\\n",
       "0       1     1    Vic   m  8.0     94.1    60.4      89.0   36.0      74.5   \n",
       "1       2     1    Vic   f  6.0     92.5    57.6      91.5   36.5      72.5   \n",
       "2       3     1    Vic   f  6.0     94.0    60.0      95.5   39.0      75.4   \n",
       "3       4     1    Vic   f  6.0     93.2    57.1      92.0   38.0      76.1   \n",
       "4       5     1    Vic   f  2.0     91.5    56.3      85.5   36.0      71.0   \n",
       "..    ...   ...    ...  ..  ...      ...     ...       ...    ...       ...   \n",
       "99    100     7  other   m  1.0     89.5    56.0      81.5   36.5      66.0   \n",
       "100   101     7  other   m  1.0     88.6    54.7      82.5   39.0      64.4   \n",
       "101   102     7  other   f  6.0     92.4    55.0      89.0   38.0      63.5   \n",
       "102   103     7  other   m  4.0     91.5    55.2      82.5   36.5      62.9   \n",
       "103   104     7  other   f  3.0     93.6    59.9      89.0   40.0      67.6   \n",
       "\n",
       "     earconch   eye  chest  belly  \n",
       "0        54.5  15.2   28.0   36.0  \n",
       "1        51.2  16.0   28.5   33.0  \n",
       "2        51.9  15.5   30.0   34.0  \n",
       "3        52.2  15.2   28.0   34.0  \n",
       "4        53.2  15.1   28.5   33.0  \n",
       "..        ...   ...    ...    ...  \n",
       "99       46.8  14.8   23.0   27.0  \n",
       "100      48.0  14.0   25.0   33.0  \n",
       "101      45.4  13.0   25.0   30.0  \n",
       "102      45.9  15.4   25.0   29.0  \n",
       "103      46.0  14.8   28.5   33.5  \n",
       "\n",
       "[104 rows x 14 columns]"
      ]
     },
     "execution_count": 3,
     "metadata": {},
     "output_type": "execute_result"
    }
   ],
   "source": [
    "data = pd.read_csv('possum.csv')\n",
    "data"
   ]
  },
  {
   "cell_type": "code",
   "execution_count": 4,
   "metadata": {},
   "outputs": [
    {
     "name": "stdout",
     "output_type": "stream",
     "text": [
      "Index(['case', 'site', 'Pop', 'sex', 'age', 'hdlngth', 'skullw', 'totlngth',\n",
      "       'taill', 'footlgth', 'earconch', 'eye', 'chest', 'belly'],\n",
      "      dtype='object')\n"
     ]
    }
   ],
   "source": [
    "# We have to predict the age of possum\n",
    "print(data.columns)"
   ]
  },
  {
   "cell_type": "code",
   "execution_count": 5,
   "metadata": {},
   "outputs": [],
   "source": [
    "data = data[['case',  'Pop', 'sex', 'site',  'hdlngth', 'skullw', 'totlngth', 'taill', 'footlgth', 'earconch', 'eye', 'chest', 'belly', 'age']]"
   ]
  },
  {
   "cell_type": "code",
   "execution_count": 6,
   "metadata": {},
   "outputs": [
    {
     "data": {
      "text/html": [
       "<div>\n",
       "<style scoped>\n",
       "    .dataframe tbody tr th:only-of-type {\n",
       "        vertical-align: middle;\n",
       "    }\n",
       "\n",
       "    .dataframe tbody tr th {\n",
       "        vertical-align: top;\n",
       "    }\n",
       "\n",
       "    .dataframe thead th {\n",
       "        text-align: right;\n",
       "    }\n",
       "</style>\n",
       "<table border=\"1\" class=\"dataframe\">\n",
       "  <thead>\n",
       "    <tr style=\"text-align: right;\">\n",
       "      <th></th>\n",
       "      <th>case</th>\n",
       "      <th>Pop</th>\n",
       "      <th>sex</th>\n",
       "      <th>site</th>\n",
       "      <th>hdlngth</th>\n",
       "      <th>skullw</th>\n",
       "      <th>totlngth</th>\n",
       "      <th>taill</th>\n",
       "      <th>footlgth</th>\n",
       "      <th>earconch</th>\n",
       "      <th>eye</th>\n",
       "      <th>chest</th>\n",
       "      <th>belly</th>\n",
       "      <th>age</th>\n",
       "    </tr>\n",
       "  </thead>\n",
       "  <tbody>\n",
       "    <tr>\n",
       "      <th>0</th>\n",
       "      <td>1</td>\n",
       "      <td>Vic</td>\n",
       "      <td>m</td>\n",
       "      <td>1</td>\n",
       "      <td>94.1</td>\n",
       "      <td>60.4</td>\n",
       "      <td>89.0</td>\n",
       "      <td>36.0</td>\n",
       "      <td>74.5</td>\n",
       "      <td>54.5</td>\n",
       "      <td>15.2</td>\n",
       "      <td>28.0</td>\n",
       "      <td>36.0</td>\n",
       "      <td>8.0</td>\n",
       "    </tr>\n",
       "    <tr>\n",
       "      <th>1</th>\n",
       "      <td>2</td>\n",
       "      <td>Vic</td>\n",
       "      <td>f</td>\n",
       "      <td>1</td>\n",
       "      <td>92.5</td>\n",
       "      <td>57.6</td>\n",
       "      <td>91.5</td>\n",
       "      <td>36.5</td>\n",
       "      <td>72.5</td>\n",
       "      <td>51.2</td>\n",
       "      <td>16.0</td>\n",
       "      <td>28.5</td>\n",
       "      <td>33.0</td>\n",
       "      <td>6.0</td>\n",
       "    </tr>\n",
       "    <tr>\n",
       "      <th>2</th>\n",
       "      <td>3</td>\n",
       "      <td>Vic</td>\n",
       "      <td>f</td>\n",
       "      <td>1</td>\n",
       "      <td>94.0</td>\n",
       "      <td>60.0</td>\n",
       "      <td>95.5</td>\n",
       "      <td>39.0</td>\n",
       "      <td>75.4</td>\n",
       "      <td>51.9</td>\n",
       "      <td>15.5</td>\n",
       "      <td>30.0</td>\n",
       "      <td>34.0</td>\n",
       "      <td>6.0</td>\n",
       "    </tr>\n",
       "    <tr>\n",
       "      <th>3</th>\n",
       "      <td>4</td>\n",
       "      <td>Vic</td>\n",
       "      <td>f</td>\n",
       "      <td>1</td>\n",
       "      <td>93.2</td>\n",
       "      <td>57.1</td>\n",
       "      <td>92.0</td>\n",
       "      <td>38.0</td>\n",
       "      <td>76.1</td>\n",
       "      <td>52.2</td>\n",
       "      <td>15.2</td>\n",
       "      <td>28.0</td>\n",
       "      <td>34.0</td>\n",
       "      <td>6.0</td>\n",
       "    </tr>\n",
       "    <tr>\n",
       "      <th>4</th>\n",
       "      <td>5</td>\n",
       "      <td>Vic</td>\n",
       "      <td>f</td>\n",
       "      <td>1</td>\n",
       "      <td>91.5</td>\n",
       "      <td>56.3</td>\n",
       "      <td>85.5</td>\n",
       "      <td>36.0</td>\n",
       "      <td>71.0</td>\n",
       "      <td>53.2</td>\n",
       "      <td>15.1</td>\n",
       "      <td>28.5</td>\n",
       "      <td>33.0</td>\n",
       "      <td>2.0</td>\n",
       "    </tr>\n",
       "    <tr>\n",
       "      <th>...</th>\n",
       "      <td>...</td>\n",
       "      <td>...</td>\n",
       "      <td>...</td>\n",
       "      <td>...</td>\n",
       "      <td>...</td>\n",
       "      <td>...</td>\n",
       "      <td>...</td>\n",
       "      <td>...</td>\n",
       "      <td>...</td>\n",
       "      <td>...</td>\n",
       "      <td>...</td>\n",
       "      <td>...</td>\n",
       "      <td>...</td>\n",
       "      <td>...</td>\n",
       "    </tr>\n",
       "    <tr>\n",
       "      <th>99</th>\n",
       "      <td>100</td>\n",
       "      <td>other</td>\n",
       "      <td>m</td>\n",
       "      <td>7</td>\n",
       "      <td>89.5</td>\n",
       "      <td>56.0</td>\n",
       "      <td>81.5</td>\n",
       "      <td>36.5</td>\n",
       "      <td>66.0</td>\n",
       "      <td>46.8</td>\n",
       "      <td>14.8</td>\n",
       "      <td>23.0</td>\n",
       "      <td>27.0</td>\n",
       "      <td>1.0</td>\n",
       "    </tr>\n",
       "    <tr>\n",
       "      <th>100</th>\n",
       "      <td>101</td>\n",
       "      <td>other</td>\n",
       "      <td>m</td>\n",
       "      <td>7</td>\n",
       "      <td>88.6</td>\n",
       "      <td>54.7</td>\n",
       "      <td>82.5</td>\n",
       "      <td>39.0</td>\n",
       "      <td>64.4</td>\n",
       "      <td>48.0</td>\n",
       "      <td>14.0</td>\n",
       "      <td>25.0</td>\n",
       "      <td>33.0</td>\n",
       "      <td>1.0</td>\n",
       "    </tr>\n",
       "    <tr>\n",
       "      <th>101</th>\n",
       "      <td>102</td>\n",
       "      <td>other</td>\n",
       "      <td>f</td>\n",
       "      <td>7</td>\n",
       "      <td>92.4</td>\n",
       "      <td>55.0</td>\n",
       "      <td>89.0</td>\n",
       "      <td>38.0</td>\n",
       "      <td>63.5</td>\n",
       "      <td>45.4</td>\n",
       "      <td>13.0</td>\n",
       "      <td>25.0</td>\n",
       "      <td>30.0</td>\n",
       "      <td>6.0</td>\n",
       "    </tr>\n",
       "    <tr>\n",
       "      <th>102</th>\n",
       "      <td>103</td>\n",
       "      <td>other</td>\n",
       "      <td>m</td>\n",
       "      <td>7</td>\n",
       "      <td>91.5</td>\n",
       "      <td>55.2</td>\n",
       "      <td>82.5</td>\n",
       "      <td>36.5</td>\n",
       "      <td>62.9</td>\n",
       "      <td>45.9</td>\n",
       "      <td>15.4</td>\n",
       "      <td>25.0</td>\n",
       "      <td>29.0</td>\n",
       "      <td>4.0</td>\n",
       "    </tr>\n",
       "    <tr>\n",
       "      <th>103</th>\n",
       "      <td>104</td>\n",
       "      <td>other</td>\n",
       "      <td>f</td>\n",
       "      <td>7</td>\n",
       "      <td>93.6</td>\n",
       "      <td>59.9</td>\n",
       "      <td>89.0</td>\n",
       "      <td>40.0</td>\n",
       "      <td>67.6</td>\n",
       "      <td>46.0</td>\n",
       "      <td>14.8</td>\n",
       "      <td>28.5</td>\n",
       "      <td>33.5</td>\n",
       "      <td>3.0</td>\n",
       "    </tr>\n",
       "  </tbody>\n",
       "</table>\n",
       "<p>104 rows × 14 columns</p>\n",
       "</div>"
      ],
      "text/plain": [
       "     case    Pop sex  site  hdlngth  skullw  totlngth  taill  footlgth  \\\n",
       "0       1    Vic   m     1     94.1    60.4      89.0   36.0      74.5   \n",
       "1       2    Vic   f     1     92.5    57.6      91.5   36.5      72.5   \n",
       "2       3    Vic   f     1     94.0    60.0      95.5   39.0      75.4   \n",
       "3       4    Vic   f     1     93.2    57.1      92.0   38.0      76.1   \n",
       "4       5    Vic   f     1     91.5    56.3      85.5   36.0      71.0   \n",
       "..    ...    ...  ..   ...      ...     ...       ...    ...       ...   \n",
       "99    100  other   m     7     89.5    56.0      81.5   36.5      66.0   \n",
       "100   101  other   m     7     88.6    54.7      82.5   39.0      64.4   \n",
       "101   102  other   f     7     92.4    55.0      89.0   38.0      63.5   \n",
       "102   103  other   m     7     91.5    55.2      82.5   36.5      62.9   \n",
       "103   104  other   f     7     93.6    59.9      89.0   40.0      67.6   \n",
       "\n",
       "     earconch   eye  chest  belly  age  \n",
       "0        54.5  15.2   28.0   36.0  8.0  \n",
       "1        51.2  16.0   28.5   33.0  6.0  \n",
       "2        51.9  15.5   30.0   34.0  6.0  \n",
       "3        52.2  15.2   28.0   34.0  6.0  \n",
       "4        53.2  15.1   28.5   33.0  2.0  \n",
       "..        ...   ...    ...    ...  ...  \n",
       "99       46.8  14.8   23.0   27.0  1.0  \n",
       "100      48.0  14.0   25.0   33.0  1.0  \n",
       "101      45.4  13.0   25.0   30.0  6.0  \n",
       "102      45.9  15.4   25.0   29.0  4.0  \n",
       "103      46.0  14.8   28.5   33.5  3.0  \n",
       "\n",
       "[104 rows x 14 columns]"
      ]
     },
     "execution_count": 6,
     "metadata": {},
     "output_type": "execute_result"
    }
   ],
   "source": [
    "data"
   ]
  },
  {
   "cell_type": "code",
   "execution_count": 7,
   "metadata": {},
   "outputs": [],
   "source": [
    "X = data.iloc[ : , 1: -1].values\n",
    "y = data.iloc[: , -1].values"
   ]
  },
  {
   "cell_type": "code",
   "execution_count": 8,
   "metadata": {},
   "outputs": [
    {
     "data": {
      "text/plain": [
       "array([['Vic', 'm', 1, ..., 15.2, 28.0, 36.0],\n",
       "       ['Vic', 'f', 1, ..., 16.0, 28.5, 33.0],\n",
       "       ['Vic', 'f', 1, ..., 15.5, 30.0, 34.0],\n",
       "       ...,\n",
       "       ['other', 'f', 7, ..., 13.0, 25.0, 30.0],\n",
       "       ['other', 'm', 7, ..., 15.4, 25.0, 29.0],\n",
       "       ['other', 'f', 7, ..., 14.8, 28.5, 33.5]], dtype=object)"
      ]
     },
     "execution_count": 8,
     "metadata": {},
     "output_type": "execute_result"
    }
   ],
   "source": [
    "X"
   ]
  },
  {
   "cell_type": "code",
   "execution_count": 9,
   "metadata": {},
   "outputs": [
    {
     "data": {
      "text/plain": [
       "array([ 8.,  6.,  6.,  6.,  2.,  1.,  2.,  6.,  9.,  6.,  9.,  5.,  5.,\n",
       "        3.,  5.,  4.,  1.,  2.,  5.,  4.,  3.,  3.,  4.,  2.,  3.,  7.,\n",
       "        2.,  4.,  3.,  2.,  3.,  4.,  3.,  2.,  4.,  7.,  2.,  7.,  1.,\n",
       "        3.,  5.,  3.,  2., nan,  3., nan,  2.,  5.,  4.,  5.,  5.,  6.,\n",
       "        3.,  7.,  2.,  3.,  4.,  3.,  2.,  2.,  7.,  3.,  6.,  3.,  5.,\n",
       "        3.,  4.,  5.,  5.,  7.,  6.,  1.,  1.,  4.,  6.,  5.,  6.,  1.,\n",
       "        1.,  1.,  3.,  4.,  3.,  3.,  3.,  3.,  2.,  2.,  6.,  3.,  3.,\n",
       "        2.,  3.,  7.,  4.,  4.,  3.,  5.,  3.,  1.,  1.,  6.,  4.,  3.])"
      ]
     },
     "execution_count": 9,
     "metadata": {},
     "output_type": "execute_result"
    }
   ],
   "source": [
    "y"
   ]
  },
  {
   "cell_type": "markdown",
   "metadata": {},
   "source": [
    "Take care of missing data in X"
   ]
  },
  {
   "cell_type": "code",
   "execution_count": 10,
   "metadata": {},
   "outputs": [
    {
     "data": {
      "text/plain": [
       "array([['Vic', 'm', 1, ..., 15.2, 28.0, 36.0],\n",
       "       ['Vic', 'f', 1, ..., 16.0, 28.5, 33.0],\n",
       "       ['Vic', 'f', 1, ..., 15.5, 30.0, 34.0],\n",
       "       ...,\n",
       "       ['other', 'f', 7, ..., 13.0, 25.0, 30.0],\n",
       "       ['other', 'm', 7, ..., 15.4, 25.0, 29.0],\n",
       "       ['other', 'f', 7, ..., 14.8, 28.5, 33.5]], dtype=object)"
      ]
     },
     "execution_count": 10,
     "metadata": {},
     "output_type": "execute_result"
    }
   ],
   "source": [
    "from sklearn.impute import SimpleImputer\n",
    "imputer = SimpleImputer(missing_values=np.nan, strategy='mean')\n",
    "imputer.fit(X[:, 3:]) # find the missing data in column 1 and 2\n",
    "X[:, 3:] = imputer.transform(X[:, 3:]) # do the replacing\n",
    "X"
   ]
  },
  {
   "cell_type": "markdown",
   "metadata": {},
   "source": [
    "Take of the missing data in y"
   ]
  },
  {
   "cell_type": "code",
   "execution_count": 11,
   "metadata": {},
   "outputs": [
    {
     "data": {
      "text/plain": [
       "array([8.        , 6.        , 6.        , 6.        , 2.        ,\n",
       "       1.        , 2.        , 6.        , 9.        , 6.        ,\n",
       "       9.        , 5.        , 5.        , 3.        , 5.        ,\n",
       "       4.        , 1.        , 2.        , 5.        , 4.        ,\n",
       "       3.        , 3.        , 4.        , 2.        , 3.        ,\n",
       "       7.        , 2.        , 4.        , 3.        , 2.        ,\n",
       "       3.        , 4.        , 3.        , 2.        , 4.        ,\n",
       "       7.        , 2.        , 7.        , 1.        , 3.        ,\n",
       "       5.        , 3.        , 2.        , 3.83333333, 3.        ,\n",
       "       3.83333333, 2.        , 5.        , 4.        , 5.        ,\n",
       "       5.        , 6.        , 3.        , 7.        , 2.        ,\n",
       "       3.        , 4.        , 3.        , 2.        , 2.        ,\n",
       "       7.        , 3.        , 6.        , 3.        , 5.        ,\n",
       "       3.        , 4.        , 5.        , 5.        , 7.        ,\n",
       "       6.        , 1.        , 1.        , 4.        , 6.        ,\n",
       "       5.        , 6.        , 1.        , 1.        , 1.        ,\n",
       "       3.        , 4.        , 3.        , 3.        , 3.        ,\n",
       "       3.        , 2.        , 2.        , 6.        , 3.        ,\n",
       "       3.        , 2.        , 3.        , 7.        , 4.        ,\n",
       "       4.        , 3.        , 5.        , 3.        , 1.        ,\n",
       "       1.        , 6.        , 4.        , 3.        ])"
      ]
     },
     "execution_count": 11,
     "metadata": {},
     "output_type": "execute_result"
    }
   ],
   "source": [
    "from sklearn.impute import SimpleImputer\n",
    "imputer = SimpleImputer(missing_values=np.nan, strategy='mean')\n",
    "\n",
    "y = y.reshape(-1, 1)\n",
    "imputer.fit(y) \n",
    "y = imputer.transform(y) \n",
    "y = y.flatten()\n",
    "y"
   ]
  },
  {
   "cell_type": "code",
   "execution_count": 12,
   "metadata": {},
   "outputs": [
    {
     "data": {
      "text/plain": [
       "array([['Vic', 'm', 1, ..., 15.2, 28.0, 36.0],\n",
       "       ['Vic', 'f', 1, ..., 16.0, 28.5, 33.0],\n",
       "       ['Vic', 'f', 1, ..., 15.5, 30.0, 34.0],\n",
       "       ...,\n",
       "       ['other', 'f', 7, ..., 13.0, 25.0, 30.0],\n",
       "       ['other', 'm', 7, ..., 15.4, 25.0, 29.0],\n",
       "       ['other', 'f', 7, ..., 14.8, 28.5, 33.5]], dtype=object)"
      ]
     },
     "execution_count": 12,
     "metadata": {},
     "output_type": "execute_result"
    }
   ],
   "source": [
    "X"
   ]
  },
  {
   "cell_type": "code",
   "execution_count": 13,
   "metadata": {},
   "outputs": [
    {
     "data": {
      "text/plain": [
       "array([8.        , 6.        , 6.        , 6.        , 2.        ,\n",
       "       1.        , 2.        , 6.        , 9.        , 6.        ,\n",
       "       9.        , 5.        , 5.        , 3.        , 5.        ,\n",
       "       4.        , 1.        , 2.        , 5.        , 4.        ,\n",
       "       3.        , 3.        , 4.        , 2.        , 3.        ,\n",
       "       7.        , 2.        , 4.        , 3.        , 2.        ,\n",
       "       3.        , 4.        , 3.        , 2.        , 4.        ,\n",
       "       7.        , 2.        , 7.        , 1.        , 3.        ,\n",
       "       5.        , 3.        , 2.        , 3.83333333, 3.        ,\n",
       "       3.83333333, 2.        , 5.        , 4.        , 5.        ,\n",
       "       5.        , 6.        , 3.        , 7.        , 2.        ,\n",
       "       3.        , 4.        , 3.        , 2.        , 2.        ,\n",
       "       7.        , 3.        , 6.        , 3.        , 5.        ,\n",
       "       3.        , 4.        , 5.        , 5.        , 7.        ,\n",
       "       6.        , 1.        , 1.        , 4.        , 6.        ,\n",
       "       5.        , 6.        , 1.        , 1.        , 1.        ,\n",
       "       3.        , 4.        , 3.        , 3.        , 3.        ,\n",
       "       3.        , 2.        , 2.        , 6.        , 3.        ,\n",
       "       3.        , 2.        , 3.        , 7.        , 4.        ,\n",
       "       4.        , 3.        , 5.        , 3.        , 1.        ,\n",
       "       1.        , 6.        , 4.        , 3.        ])"
      ]
     },
     "execution_count": 13,
     "metadata": {},
     "output_type": "execute_result"
    }
   ],
   "source": [
    "y"
   ]
  },
  {
   "cell_type": "markdown",
   "metadata": {},
   "source": [
    "Encode Pop and sex columns\n"
   ]
  },
  {
   "cell_type": "code",
   "execution_count": 14,
   "metadata": {},
   "outputs": [],
   "source": [
    "from sklearn.compose import ColumnTransformer\n",
    "from sklearn.preprocessing import OneHotEncoder"
   ]
  },
  {
   "cell_type": "code",
   "execution_count": 15,
   "metadata": {},
   "outputs": [],
   "source": [
    "# Run this only once\n",
    "ct = ColumnTransformer(transformers=[('encoder', OneHotEncoder(), [0, 1])], remainder='passthrough') # column 1, 2 is what we want to encode and passthrough means leave the others\n",
    "X = np.array(ct.fit_transform(X)) # np.array makes it a matrix "
   ]
  },
  {
   "cell_type": "markdown",
   "metadata": {},
   "source": [
    "Split"
   ]
  },
  {
   "cell_type": "code",
   "execution_count": 16,
   "metadata": {},
   "outputs": [],
   "source": [
    "from sklearn.model_selection import train_test_split\n",
    "X_train, X_test, y_train, y_test = train_test_split(X, y, test_size=0.2, random_state=1) # random state make sure it has the same outcome everytime you run it\n"
   ]
  },
  {
   "cell_type": "markdown",
   "metadata": {},
   "source": [
    "Simple Linear Regression"
   ]
  },
  {
   "cell_type": "code",
   "execution_count": 19,
   "metadata": {},
   "outputs": [
    {
     "data": {
      "text/plain": [
       "array([3.17503525, 3.32307451, 3.94190138, 3.69753476, 2.31937503,\n",
       "       3.47056449, 6.11862178, 3.86410496, 4.58963891, 5.93501294,\n",
       "       4.74118672, 2.56414307, 2.38014552, 4.98850695, 2.92006948,\n",
       "       3.93784502, 4.65448102, 4.6902528 , 3.5957604 , 2.91391551,\n",
       "       4.1057553 ])"
      ]
     },
     "execution_count": 19,
     "metadata": {},
     "output_type": "execute_result"
    }
   ],
   "source": [
    "from sklearn.linear_model import LinearRegression\n",
    "simple_regressor = LinearRegression()\n",
    "simple_regressor.fit(X_train, y_train)\n",
    "simple_pred = simple_regressor.predict(X_test)\n",
    "simple_pred\n",
    "\n"
   ]
  },
  {
   "cell_type": "code",
   "execution_count": 20,
   "metadata": {},
   "outputs": [
    {
     "name": "stdout",
     "output_type": "stream",
     "text": [
      "[[3.   3.18]\n",
      " [7.   3.32]\n",
      " [4.   3.94]\n",
      " [2.   3.7 ]\n",
      " [1.   2.32]\n",
      " [3.   3.47]\n",
      " [7.   6.12]\n",
      " [3.   3.86]\n",
      " [4.   4.59]\n",
      " [4.   5.94]\n",
      " [3.   4.74]\n",
      " [2.   2.56]\n",
      " [2.   2.38]\n",
      " [2.   4.99]\n",
      " [2.   2.92]\n",
      " [6.   3.94]\n",
      " [3.   4.65]\n",
      " [3.   4.69]\n",
      " [2.   3.6 ]\n",
      " [6.   2.91]\n",
      " [5.   4.11]]\n"
     ]
    }
   ],
   "source": [
    "np.set_printoptions(precision=2)\n",
    "print(np.concatenate((y_test.reshape(-1,1), simple_pred.reshape(-1,1)),1))"
   ]
  },
  {
   "cell_type": "code",
   "execution_count": 21,
   "metadata": {},
   "outputs": [
    {
     "data": {
      "text/plain": [
       "0.020184384288670087"
      ]
     },
     "execution_count": 21,
     "metadata": {},
     "output_type": "execute_result"
    }
   ],
   "source": [
    "from sklearn.metrics import r2_score\n",
    "simple_r2_score = r2_score(y_test,  simple_pred)\n",
    "simple_r2_score"
   ]
  },
  {
   "cell_type": "markdown",
   "metadata": {},
   "source": [
    "Multiple Linear Regression"
   ]
  },
  {
   "cell_type": "code",
   "execution_count": 22,
   "metadata": {},
   "outputs": [
    {
     "data": {
      "text/plain": [
       "array([3.18, 3.32, 3.94, 3.7 , 2.32, 3.47, 6.12, 3.86, 4.59, 5.94, 4.74,\n",
       "       2.56, 2.38, 4.99, 2.92, 3.94, 4.65, 4.69, 3.6 , 2.91, 4.11])"
      ]
     },
     "execution_count": 22,
     "metadata": {},
     "output_type": "execute_result"
    }
   ],
   "source": [
    "from sklearn.linear_model import LinearRegression\n",
    "multiple_regressor = LinearRegression()\n",
    "multiple_regressor.fit(X_train, y_train) \n",
    "multiple_pred = multiple_regressor.predict(X_test)\n",
    "multiple_pred"
   ]
  },
  {
   "cell_type": "code",
   "execution_count": 23,
   "metadata": {},
   "outputs": [
    {
     "name": "stdout",
     "output_type": "stream",
     "text": [
      "[[3.   3.18]\n",
      " [7.   3.32]\n",
      " [4.   3.94]\n",
      " [2.   3.7 ]\n",
      " [1.   2.32]\n",
      " [3.   3.47]\n",
      " [7.   6.12]\n",
      " [3.   3.86]\n",
      " [4.   4.59]\n",
      " [4.   5.94]\n",
      " [3.   4.74]\n",
      " [2.   2.56]\n",
      " [2.   2.38]\n",
      " [2.   4.99]\n",
      " [2.   2.92]\n",
      " [6.   3.94]\n",
      " [3.   4.65]\n",
      " [3.   4.69]\n",
      " [2.   3.6 ]\n",
      " [6.   2.91]\n",
      " [5.   4.11]]\n"
     ]
    }
   ],
   "source": [
    "np.set_printoptions(precision=2)\n",
    "print(np.concatenate((y_test.reshape(-1,1), multiple_pred.reshape(-1,1)),1))"
   ]
  },
  {
   "cell_type": "code",
   "execution_count": 24,
   "metadata": {},
   "outputs": [
    {
     "data": {
      "text/plain": [
       "0.020184384288670087"
      ]
     },
     "execution_count": 24,
     "metadata": {},
     "output_type": "execute_result"
    }
   ],
   "source": [
    "from sklearn.metrics import r2_score\n",
    "multiple_r2_score = r2_score(y_test,  multiple_pred)\n",
    "multiple_r2_score"
   ]
  },
  {
   "cell_type": "markdown",
   "metadata": {},
   "source": [
    "Polynomial Regression"
   ]
  },
  {
   "cell_type": "code",
   "execution_count": 30,
   "metadata": {},
   "outputs": [],
   "source": [
    "from sklearn.preprocessing import PolynomialFeatures \n",
    "poly_converter= PolynomialFeatures(degree=5)  # convert the X_train to degree 4 \n",
    "X_train_poly = poly_converter.fit_transform(X_train) # convert the X_test to degree 4 \n",
    "X_test_poly = poly_converter.fit_transform(X_test)"
   ]
  },
  {
   "cell_type": "code",
   "execution_count": 31,
   "metadata": {},
   "outputs": [
    {
     "data": {
      "text/plain": [
       "array([ 0.66, 16.5 , -0.02,  4.85,  1.75,  7.87,  4.32,  5.18, 10.6 ,\n",
       "       12.98,  6.45, -0.35,  1.4 , 15.44,  3.15,  1.47,  7.18, -4.03,\n",
       "        3.19, -1.79,  5.05])"
      ]
     },
     "execution_count": 31,
     "metadata": {},
     "output_type": "execute_result"
    }
   ],
   "source": [
    "from sklearn.linear_model import LinearRegression\n",
    "poly_regressor = LinearRegression()\n",
    "poly_regressor.fit(X_train_poly, y_train)\n",
    "poly_pred = poly_regressor.predict(X_test_poly)\n",
    "poly_pred"
   ]
  },
  {
   "cell_type": "code",
   "execution_count": 28,
   "metadata": {},
   "outputs": [
    {
     "name": "stdout",
     "output_type": "stream",
     "text": [
      "[[ 3.00e+00  8.09e-01]\n",
      " [ 7.00e+00  1.60e+01]\n",
      " [ 4.00e+00  8.14e-04]\n",
      " [ 2.00e+00  5.07e+00]\n",
      " [ 1.00e+00  2.29e+00]\n",
      " [ 3.00e+00  7.89e+00]\n",
      " [ 7.00e+00  2.62e+00]\n",
      " [ 3.00e+00  6.04e+00]\n",
      " [ 4.00e+00  1.05e+01]\n",
      " [ 4.00e+00  1.28e+01]\n",
      " [ 3.00e+00  6.56e+00]\n",
      " [ 2.00e+00 -2.96e-01]\n",
      " [ 2.00e+00  1.43e+00]\n",
      " [ 2.00e+00  1.64e+01]\n",
      " [ 2.00e+00  2.63e+00]\n",
      " [ 6.00e+00  2.38e+00]\n",
      " [ 3.00e+00  7.22e+00]\n",
      " [ 3.00e+00 -3.64e+00]\n",
      " [ 2.00e+00  3.12e+00]\n",
      " [ 6.00e+00 -6.10e-01]\n",
      " [ 5.00e+00  4.22e+00]]\n"
     ]
    }
   ],
   "source": [
    "np.set_printoptions(precision=2)\n",
    "print(np.concatenate((y_test.reshape(-1,1), poly_pred.reshape(-1,1)),1))"
   ]
  },
  {
   "cell_type": "code",
   "execution_count": 32,
   "metadata": {},
   "outputs": [
    {
     "data": {
      "text/plain": [
       "-9.28245692898424"
      ]
     },
     "execution_count": 32,
     "metadata": {},
     "output_type": "execute_result"
    }
   ],
   "source": [
    "from sklearn.metrics import r2_score\n",
    "poly_r2_score = r2_score(y_test,  poly_pred)\n",
    "poly_r2_score"
   ]
  },
  {
   "cell_type": "markdown",
   "metadata": {},
   "source": [
    "Support Vector Regression"
   ]
  },
  {
   "cell_type": "code",
   "execution_count": 33,
   "metadata": {},
   "outputs": [],
   "source": [
    "# We do the feature scaling for both X and y sets\n",
    "from sklearn.preprocessing import StandardScaler\n",
    "sc_X = StandardScaler()\n",
    "X_train_scaled = sc_X.fit_transform(X_train)\n",
    "X_test_scaled = sc_X.fit_transform(X_test)"
   ]
  },
  {
   "cell_type": "code",
   "execution_count": 34,
   "metadata": {},
   "outputs": [],
   "source": [
    "# Reshape y before scaling\n",
    "sc_y = StandardScaler()\n",
    "y_train_trans = y_train.reshape(-1, 1)\n",
    "y_train_scaled = sc_y.fit_transform(y_train_trans)"
   ]
  },
  {
   "cell_type": "code",
   "execution_count": 35,
   "metadata": {},
   "outputs": [
    {
     "name": "stderr",
     "output_type": "stream",
     "text": [
      "/Users/user/opt/anaconda3/lib/python3.9/site-packages/sklearn/utils/validation.py:993: DataConversionWarning: A column-vector y was passed when a 1d array was expected. Please change the shape of y to (n_samples, ), for example using ravel().\n",
      "  y = column_or_1d(y, warn=True)\n"
     ]
    },
    {
     "data": {
      "text/plain": [
       "SVR()"
      ]
     },
     "execution_count": 35,
     "metadata": {},
     "output_type": "execute_result"
    }
   ],
   "source": [
    "from sklearn.svm import SVR\n",
    "svr_regressor = SVR(kernel='rbf') # always use rbf\n",
    "svr_regressor.fit(X_train_scaled, y_train_scaled) # train on the scaled model\n",
    "# ignore the 1-d error"
   ]
  },
  {
   "cell_type": "code",
   "execution_count": 36,
   "metadata": {},
   "outputs": [],
   "source": [
    "svr_pred_scaled = svr_regressor.predict(X_test_scaled)\n",
    "svr_pred_scaled = svr_pred_scaled.reshape(-1, 1) # so it can be easily inverted\n"
   ]
  },
  {
   "cell_type": "code",
   "execution_count": 37,
   "metadata": {},
   "outputs": [
    {
     "data": {
      "text/plain": [
       "array([3.2 , 4.47, 3.09, 4.03, 2.62, 2.73, 2.96, 3.65, 5.54, 4.07, 4.97,\n",
       "       3.85, 3.45, 1.94, 3.47, 4.79, 4.03, 5.44, 3.52, 3.75, 4.81])"
      ]
     },
     "execution_count": 37,
     "metadata": {},
     "output_type": "execute_result"
    }
   ],
   "source": [
    "# Ger the inverse\n",
    "svr_pred = sc_y.inverse_transform(svr_pred_scaled)\n",
    "svr_pred = svr_pred.flatten()\n",
    "svr_pred"
   ]
  },
  {
   "cell_type": "code",
   "execution_count": 38,
   "metadata": {},
   "outputs": [
    {
     "name": "stdout",
     "output_type": "stream",
     "text": [
      "[[3.   3.2 ]\n",
      " [7.   4.47]\n",
      " [4.   3.09]\n",
      " [2.   4.03]\n",
      " [1.   2.62]\n",
      " [3.   2.73]\n",
      " [7.   2.96]\n",
      " [3.   3.65]\n",
      " [4.   5.54]\n",
      " [4.   4.07]\n",
      " [3.   4.97]\n",
      " [2.   3.85]\n",
      " [2.   3.45]\n",
      " [2.   1.94]\n",
      " [2.   3.47]\n",
      " [6.   4.79]\n",
      " [3.   4.03]\n",
      " [3.   5.44]\n",
      " [2.   3.52]\n",
      " [6.   3.75]\n",
      " [5.   4.81]]\n"
     ]
    }
   ],
   "source": [
    "np.set_printoptions(precision=2)\n",
    "print(np.concatenate((y_test.reshape(-1,1), svr_pred.reshape(-1,1)),1))"
   ]
  },
  {
   "cell_type": "code",
   "execution_count": 39,
   "metadata": {},
   "outputs": [
    {
     "data": {
      "text/plain": [
       "0.008622487783643717"
      ]
     },
     "execution_count": 39,
     "metadata": {},
     "output_type": "execute_result"
    }
   ],
   "source": [
    "from sklearn.metrics import r2_score\n",
    "svr_r2_score = r2_score(y_test,  svr_pred)\n",
    "svr_r2_score"
   ]
  },
  {
   "cell_type": "markdown",
   "metadata": {},
   "source": [
    "Decison Tree"
   ]
  },
  {
   "cell_type": "code",
   "execution_count": 40,
   "metadata": {},
   "outputs": [
    {
     "data": {
      "text/plain": [
       "DecisionTreeRegressor(random_state=1)"
      ]
     },
     "execution_count": 40,
     "metadata": {},
     "output_type": "execute_result"
    }
   ],
   "source": [
    "from sklearn.tree import DecisionTreeRegressor\n",
    "tree_regressor = DecisionTreeRegressor(random_state=1)\n",
    "tree_regressor.fit(X_train, y_train)"
   ]
  },
  {
   "cell_type": "code",
   "execution_count": 41,
   "metadata": {},
   "outputs": [
    {
     "data": {
      "text/plain": [
       "array([3., 4., 4., 2., 3., 2., 3., 3., 6., 3., 6., 3., 2., 3., 3., 7., 6.,\n",
       "       3., 9., 3., 4.])"
      ]
     },
     "execution_count": 41,
     "metadata": {},
     "output_type": "execute_result"
    }
   ],
   "source": [
    "tree_pred = tree_regressor.predict(X_test)\n",
    "tree_pred"
   ]
  },
  {
   "cell_type": "code",
   "execution_count": 42,
   "metadata": {},
   "outputs": [
    {
     "name": "stdout",
     "output_type": "stream",
     "text": [
      "[[3. 3.]\n",
      " [7. 4.]\n",
      " [4. 4.]\n",
      " [2. 2.]\n",
      " [1. 3.]\n",
      " [3. 2.]\n",
      " [7. 3.]\n",
      " [3. 3.]\n",
      " [4. 6.]\n",
      " [4. 3.]\n",
      " [3. 6.]\n",
      " [2. 3.]\n",
      " [2. 2.]\n",
      " [2. 3.]\n",
      " [2. 3.]\n",
      " [6. 7.]\n",
      " [3. 6.]\n",
      " [3. 3.]\n",
      " [2. 9.]\n",
      " [6. 3.]\n",
      " [5. 4.]]\n"
     ]
    }
   ],
   "source": [
    "np.set_printoptions(precision=2)\n",
    "print(np.concatenate((y_test.reshape(-1,1), tree_pred.reshape(-1,1)),1))"
   ]
  },
  {
   "cell_type": "code",
   "execution_count": 43,
   "metadata": {},
   "outputs": [
    {
     "data": {
      "text/plain": [
       "-0.8942457231726282"
      ]
     },
     "execution_count": 43,
     "metadata": {},
     "output_type": "execute_result"
    }
   ],
   "source": [
    "from sklearn.metrics import r2_score\n",
    "tree_r2_score = r2_score(y_test,  tree_pred)\n",
    "tree_r2_score"
   ]
  },
  {
   "cell_type": "markdown",
   "metadata": {},
   "source": [
    "Random Forest Regression"
   ]
  },
  {
   "cell_type": "code",
   "execution_count": 44,
   "metadata": {},
   "outputs": [
    {
     "data": {
      "text/plain": [
       "array([2.8 , 4.4 , 1.4 , 3.6 , 2.85, 2.5 , 3.6 , 1.6 , 5.2 , 4.8 , 5.6 ,\n",
       "       2.3 , 2.1 , 3.7 , 2.48, 5.3 , 4.9 , 3.08, 6.5 , 2.9 , 5.3 ])"
      ]
     },
     "execution_count": 44,
     "metadata": {},
     "output_type": "execute_result"
    }
   ],
   "source": [
    "from sklearn.ensemble import RandomForestRegressor\n",
    "forest_regressor = RandomForestRegressor(n_estimators=10, random_state=0) # numbers of trees to be used\n",
    "forest_regressor.fit(X_train, y_train)\n",
    "forest_pred = forest_regressor.predict(X_test)\n",
    "forest_pred"
   ]
  },
  {
   "cell_type": "code",
   "execution_count": 45,
   "metadata": {},
   "outputs": [
    {
     "name": "stdout",
     "output_type": "stream",
     "text": [
      "[[3.   2.8 ]\n",
      " [7.   4.4 ]\n",
      " [4.   1.4 ]\n",
      " [2.   3.6 ]\n",
      " [1.   2.85]\n",
      " [3.   2.5 ]\n",
      " [7.   3.6 ]\n",
      " [3.   1.6 ]\n",
      " [4.   5.2 ]\n",
      " [4.   4.8 ]\n",
      " [3.   5.6 ]\n",
      " [2.   2.3 ]\n",
      " [2.   2.1 ]\n",
      " [2.   3.7 ]\n",
      " [2.   2.48]\n",
      " [6.   5.3 ]\n",
      " [3.   4.9 ]\n",
      " [3.   3.08]\n",
      " [2.   6.5 ]\n",
      " [6.   2.9 ]\n",
      " [5.   5.3 ]]\n"
     ]
    }
   ],
   "source": [
    "np.set_printoptions(precision=2)\n",
    "print(np.concatenate((y_test.reshape(-1,1), forest_pred.reshape(-1,1)),1))\n"
   ]
  },
  {
   "cell_type": "code",
   "execution_count": 46,
   "metadata": {},
   "outputs": [
    {
     "data": {
      "text/plain": [
       "-0.29711832555728357"
      ]
     },
     "execution_count": 46,
     "metadata": {},
     "output_type": "execute_result"
    }
   ],
   "source": [
    "from sklearn.metrics import r2_score\n",
    "forest_r2_score = r2_score(y_test,  forest_pred)\n",
    "forest_r2_score"
   ]
  },
  {
   "cell_type": "code",
   "execution_count": 47,
   "metadata": {},
   "outputs": [
    {
     "name": "stdout",
     "output_type": "stream",
     "text": [
      "The best performing model is simple linear regression\n",
      "The best performing model is multiple linear regression\n"
     ]
    }
   ],
   "source": [
    "performance_dict = {\n",
    "    'simple linear regression': round(simple_r2_score, 4),\n",
    "    'multiple linear regression': round(multiple_r2_score, 4),\n",
    "    'polynomial regression': round(poly_r2_score, 4),\n",
    "    'support vector regression': round(svr_r2_score, 4),\n",
    "    'decision tree regression': round(tree_r2_score, 4),\n",
    "    'random forest regression': round(forest_r2_score, 4),\n",
    "}\n",
    "\n",
    "score_list = []\n",
    "\n",
    "for key,value in performance_dict.items():\n",
    "    score_list.append(value)\n",
    "    max_score = max(score_list)\n",
    "\n",
    "for key,value in performance_dict.items():\n",
    "    if value == max_score:\n",
    "        print(f'The best performing model is {key}')"
   ]
  },
  {
   "cell_type": "code",
   "execution_count": null,
   "metadata": {},
   "outputs": [],
   "source": []
  }
 ],
 "metadata": {
  "kernelspec": {
   "display_name": "Python 3.9.12 ('base')",
   "language": "python",
   "name": "python3"
  },
  "language_info": {
   "codemirror_mode": {
    "name": "ipython",
    "version": 3
   },
   "file_extension": ".py",
   "mimetype": "text/x-python",
   "name": "python",
   "nbconvert_exporter": "python",
   "pygments_lexer": "ipython3",
   "version": "3.9.12"
  },
  "orig_nbformat": 4,
  "vscode": {
   "interpreter": {
    "hash": "701d4f28dcd0866722f5108a3a4cbcd08882d26398b6d44117e791d7b8102912"
   }
  }
 },
 "nbformat": 4,
 "nbformat_minor": 2
}
