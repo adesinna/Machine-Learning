{
 "cells": [
  {
   "cell_type": "code",
   "execution_count": 1,
   "metadata": {},
   "outputs": [],
   "source": [
    "import numpy as np\n",
    "import pandas as pd\n",
    "import matplotlib.pyplot as plt\n",
    "import seaborn as sns\n",
    "\n",
    "\n",
    "%matplotlib inline"
   ]
  },
  {
   "cell_type": "code",
   "execution_count": 2,
   "metadata": {},
   "outputs": [
    {
     "data": {
      "text/html": [
       "<div>\n",
       "<style scoped>\n",
       "    .dataframe tbody tr th:only-of-type {\n",
       "        vertical-align: middle;\n",
       "    }\n",
       "\n",
       "    .dataframe tbody tr th {\n",
       "        vertical-align: top;\n",
       "    }\n",
       "\n",
       "    .dataframe thead th {\n",
       "        text-align: right;\n",
       "    }\n",
       "</style>\n",
       "<table border=\"1\" class=\"dataframe\">\n",
       "  <thead>\n",
       "    <tr style=\"text-align: right;\">\n",
       "      <th></th>\n",
       "      <th>ID\\tYear_Birth\\tEducation\\tMarital_Status\\tIncome\\tKidhome\\tTeenhome\\tDt_Customer\\tRecency\\tMntWines\\tMntFruits\\tMntMeatProducts\\tMntFishProducts\\tMntSweetProducts\\tMntGoldProds\\tNumDealsPurchases\\tNumWebPurchases\\tNumCatalogPurchases\\tNumStorePurchases\\tNumWebVisitsMonth\\tAcceptedCmp3\\tAcceptedCmp4\\tAcceptedCmp5\\tAcceptedCmp1\\tAcceptedCmp2\\tComplain\\tZ_CostContact\\tZ_Revenue\\tResponse</th>\n",
       "    </tr>\n",
       "  </thead>\n",
       "  <tbody>\n",
       "    <tr>\n",
       "      <th>0</th>\n",
       "      <td>5524\\t1957\\tGraduation\\tSingle\\t58138\\t0\\t0\\t0...</td>\n",
       "    </tr>\n",
       "    <tr>\n",
       "      <th>1</th>\n",
       "      <td>2174\\t1954\\tGraduation\\tSingle\\t46344\\t1\\t1\\t0...</td>\n",
       "    </tr>\n",
       "    <tr>\n",
       "      <th>2</th>\n",
       "      <td>4141\\t1965\\tGraduation\\tTogether\\t71613\\t0\\t0\\...</td>\n",
       "    </tr>\n",
       "    <tr>\n",
       "      <th>3</th>\n",
       "      <td>6182\\t1984\\tGraduation\\tTogether\\t26646\\t1\\t0\\...</td>\n",
       "    </tr>\n",
       "    <tr>\n",
       "      <th>4</th>\n",
       "      <td>5324\\t1981\\tPhD\\tMarried\\t58293\\t1\\t0\\t19-01-2...</td>\n",
       "    </tr>\n",
       "    <tr>\n",
       "      <th>...</th>\n",
       "      <td>...</td>\n",
       "    </tr>\n",
       "    <tr>\n",
       "      <th>2235</th>\n",
       "      <td>10870\\t1967\\tGraduation\\tMarried\\t61223\\t0\\t1\\...</td>\n",
       "    </tr>\n",
       "    <tr>\n",
       "      <th>2236</th>\n",
       "      <td>4001\\t1946\\tPhD\\tTogether\\t64014\\t2\\t1\\t10-06-...</td>\n",
       "    </tr>\n",
       "    <tr>\n",
       "      <th>2237</th>\n",
       "      <td>7270\\t1981\\tGraduation\\tDivorced\\t56981\\t0\\t0\\...</td>\n",
       "    </tr>\n",
       "    <tr>\n",
       "      <th>2238</th>\n",
       "      <td>8235\\t1956\\tMaster\\tTogether\\t69245\\t0\\t1\\t24-...</td>\n",
       "    </tr>\n",
       "    <tr>\n",
       "      <th>2239</th>\n",
       "      <td>9405\\t1954\\tPhD\\tMarried\\t52869\\t1\\t1\\t15-10-2...</td>\n",
       "    </tr>\n",
       "  </tbody>\n",
       "</table>\n",
       "<p>2240 rows × 1 columns</p>\n",
       "</div>"
      ],
      "text/plain": [
       "     ID\\tYear_Birth\\tEducation\\tMarital_Status\\tIncome\\tKidhome\\tTeenhome\\tDt_Customer\\tRecency\\tMntWines\\tMntFruits\\tMntMeatProducts\\tMntFishProducts\\tMntSweetProducts\\tMntGoldProds\\tNumDealsPurchases\\tNumWebPurchases\\tNumCatalogPurchases\\tNumStorePurchases\\tNumWebVisitsMonth\\tAcceptedCmp3\\tAcceptedCmp4\\tAcceptedCmp5\\tAcceptedCmp1\\tAcceptedCmp2\\tComplain\\tZ_CostContact\\tZ_Revenue\\tResponse\n",
       "0     5524\\t1957\\tGraduation\\tSingle\\t58138\\t0\\t0\\t0...                                                                                                                                                                                                                                                                                                                                                  \n",
       "1     2174\\t1954\\tGraduation\\tSingle\\t46344\\t1\\t1\\t0...                                                                                                                                                                                                                                                                                                                                                  \n",
       "2     4141\\t1965\\tGraduation\\tTogether\\t71613\\t0\\t0\\...                                                                                                                                                                                                                                                                                                                                                  \n",
       "3     6182\\t1984\\tGraduation\\tTogether\\t26646\\t1\\t0\\...                                                                                                                                                                                                                                                                                                                                                  \n",
       "4     5324\\t1981\\tPhD\\tMarried\\t58293\\t1\\t0\\t19-01-2...                                                                                                                                                                                                                                                                                                                                                  \n",
       "...                                                 ...                                                                                                                                                                                                                                                                                                                                                  \n",
       "2235  10870\\t1967\\tGraduation\\tMarried\\t61223\\t0\\t1\\...                                                                                                                                                                                                                                                                                                                                                  \n",
       "2236  4001\\t1946\\tPhD\\tTogether\\t64014\\t2\\t1\\t10-06-...                                                                                                                                                                                                                                                                                                                                                  \n",
       "2237  7270\\t1981\\tGraduation\\tDivorced\\t56981\\t0\\t0\\...                                                                                                                                                                                                                                                                                                                                                  \n",
       "2238  8235\\t1956\\tMaster\\tTogether\\t69245\\t0\\t1\\t24-...                                                                                                                                                                                                                                                                                                                                                  \n",
       "2239  9405\\t1954\\tPhD\\tMarried\\t52869\\t1\\t1\\t15-10-2...                                                                                                                                                                                                                                                                                                                                                  \n",
       "\n",
       "[2240 rows x 1 columns]"
      ]
     },
     "execution_count": 2,
     "metadata": {},
     "output_type": "execute_result"
    }
   ],
   "source": [
    "data = pd.read_csv('marketing_campaign.csv')\n",
    "data"
   ]
  },
  {
   "cell_type": "code",
   "execution_count": 5,
   "metadata": {},
   "outputs": [],
   "source": [
    "X = data.iloc[ : , : ].values # you can select columns or rows by putting their indicies into a list,  X = data.iloc[ : , [3, 4] ].values"
   ]
  },
  {
   "cell_type": "code",
   "execution_count": 6,
   "metadata": {},
   "outputs": [
    {
     "data": {
      "text/plain": [
       "array([['5524\\t1957\\tGraduation\\tSingle\\t58138\\t0\\t0\\t04-09-2012\\t58\\t635\\t88\\t546\\t172\\t88\\t88\\t3\\t8\\t10\\t4\\t7\\t0\\t0\\t0\\t0\\t0\\t0\\t3\\t11\\t1'],\n",
       "       ['2174\\t1954\\tGraduation\\tSingle\\t46344\\t1\\t1\\t08-03-2014\\t38\\t11\\t1\\t6\\t2\\t1\\t6\\t2\\t1\\t1\\t2\\t5\\t0\\t0\\t0\\t0\\t0\\t0\\t3\\t11\\t0'],\n",
       "       ['4141\\t1965\\tGraduation\\tTogether\\t71613\\t0\\t0\\t21-08-2013\\t26\\t426\\t49\\t127\\t111\\t21\\t42\\t1\\t8\\t2\\t10\\t4\\t0\\t0\\t0\\t0\\t0\\t0\\t3\\t11\\t0'],\n",
       "       ...,\n",
       "       ['7270\\t1981\\tGraduation\\tDivorced\\t56981\\t0\\t0\\t25-01-2014\\t91\\t908\\t48\\t217\\t32\\t12\\t24\\t1\\t2\\t3\\t13\\t6\\t0\\t1\\t0\\t0\\t0\\t0\\t3\\t11\\t0'],\n",
       "       ['8235\\t1956\\tMaster\\tTogether\\t69245\\t0\\t1\\t24-01-2014\\t8\\t428\\t30\\t214\\t80\\t30\\t61\\t2\\t6\\t5\\t10\\t3\\t0\\t0\\t0\\t0\\t0\\t0\\t3\\t11\\t0'],\n",
       "       ['9405\\t1954\\tPhD\\tMarried\\t52869\\t1\\t1\\t15-10-2012\\t40\\t84\\t3\\t61\\t2\\t1\\t21\\t3\\t3\\t1\\t4\\t7\\t0\\t0\\t0\\t0\\t0\\t0\\t3\\t11\\t1']],\n",
       "      dtype=object)"
      ]
     },
     "execution_count": 6,
     "metadata": {},
     "output_type": "execute_result"
    }
   ],
   "source": [
    "X"
   ]
  },
  {
   "cell_type": "code",
   "execution_count": null,
   "metadata": {},
   "outputs": [],
   "source": []
  }
 ],
 "metadata": {
  "kernelspec": {
   "display_name": "Python 3.9.12 ('base')",
   "language": "python",
   "name": "python3"
  },
  "language_info": {
   "codemirror_mode": {
    "name": "ipython",
    "version": 3
   },
   "file_extension": ".py",
   "mimetype": "text/x-python",
   "name": "python",
   "nbconvert_exporter": "python",
   "pygments_lexer": "ipython3",
   "version": "3.9.12"
  },
  "orig_nbformat": 4,
  "vscode": {
   "interpreter": {
    "hash": "701d4f28dcd0866722f5108a3a4cbcd08882d26398b6d44117e791d7b8102912"
   }
  }
 },
 "nbformat": 4,
 "nbformat_minor": 2
}
